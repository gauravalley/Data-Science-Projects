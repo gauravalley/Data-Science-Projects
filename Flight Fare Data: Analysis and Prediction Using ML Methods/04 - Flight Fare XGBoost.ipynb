{
 "cells": [
  {
   "cell_type": "markdown",
   "metadata": {},
   "source": [
    "We shall start by importing the essential libraries."
   ]
  },
  {
   "cell_type": "code",
   "execution_count": 1,
   "metadata": {},
   "outputs": [],
   "source": [
    "### IMPORTING LIBRARIES\n",
    "import numpy as np\n",
    "import pandas as pd\n",
    "import matplotlib.pyplot as plt\n",
    "import seaborn as sns\n",
    "import xgboost as xgb\n",
    "import collections\n",
    "pd.options.mode.chained_assignment = None\n",
    "from sklearn.impute import SimpleImputer\n",
    "from sklearn.model_selection import RandomizedSearchCV, train_test_split, cross_val_score\n",
    "from sklearn.metrics import mean_absolute_error, mean_squared_error, r2_score"
   ]
  },
  {
   "cell_type": "markdown",
   "metadata": {},
   "source": [
    "Next, we clean the data and bring it to a form which will make the model building process easy. This phase is done exactly the same way as in 00 - Flight Fare EDA."
   ]
  },
  {
   "cell_type": "code",
   "execution_count": 2,
   "metadata": {},
   "outputs": [],
   "source": [
    "### DATA PREPARATION\n",
    "flightfare = pd.read_excel('C:\\\\Users\\\\Shekhar Lamba\\\\Desktop\\\\Python\\\\Projects\\\\Flight\\Data_Train.xlsx')\n",
    "\n",
    "df = pd.DataFrame(flightfare)\n",
    "\n",
    "df['Destination'] = df['Destination'].replace('New Delhi', 'Delhi')\n",
    "\n",
    "df['Date_of_Journey'] = pd.to_datetime(df['Date_of_Journey'], format = '%d/%m/%Y')\n",
    "\n",
    "df['Weekday_of_Journey'] = df['Date_of_Journey'].dt.weekday\n",
    "df['Day_of_Journey'] = df['Date_of_Journey'].dt.day\n",
    "df['Month_of_Journey'] = df['Date_of_Journey'].dt.month\n",
    "df.drop(['Date_of_Journey'], axis = 1, inplace = True)\n",
    "\n",
    "df['Weekend_Journey'] = np.where(df['Weekday_of_Journey'] >= 5, 1, 0)\n",
    "df.drop(['Weekday_of_Journey'], axis = 1, inplace = True)\n",
    "\n",
    "df['Dep_Hour'] = pd.to_datetime(df['Dep_Time'], format = '%H:%M').dt.hour\n",
    "df['Dep_Mins'] = pd.to_datetime(df['Dep_Time'], format = '%H:%M').dt.minute\n",
    "df.drop(['Dep_Time'], axis = 1, inplace = True)\n",
    "\n",
    "df['Next_Day_Arrival'] = 0\n",
    "row_range = range(0, len(df))\n",
    "for row in row_range: \n",
    "    df['Next_Day_Arrival'][row] = np.where((len(df['Arrival_Time'][row]) > 5), 1, 0)\n",
    "\n",
    "df['Arrival_Hour'] = pd.to_datetime(df['Arrival_Time']).dt.hour\n",
    "df['Arrival_Mins'] = pd.to_datetime(df['Arrival_Time']).dt.minute\n",
    "df.drop(['Arrival_Time'], axis = 1, inplace = True)\n",
    "\n",
    "row_range = range(0, len(df))\n",
    "for row in row_range:\n",
    "    if(len(df['Duration'][row]) <= 3):\n",
    "        if 'h' in df['Duration'][row]:\n",
    "            df['Duration'][row] = df['Duration'][row] + ' 0m'\n",
    "        elif 'm' in df['Duration'][row]:\n",
    "            df['Duration'][row] = '0h ' + df['Duration'][row]\n",
    "\n",
    "df['Duration_in_minutes'] = 0\n",
    "row_range = range(0, len(df))\n",
    "for row in row_range:\n",
    "    df['Duration_in_minutes'][row] = (int(df['Duration'][row].split('h ')[0]) * 60) + int(df['Duration'][row].split('h ')[1].replace('m', ''))\n",
    "\n",
    "df.drop(['Duration'], axis = 1, inplace = True)\n",
    "\n",
    "df['Flight_Route'] = 0\n",
    "x_values = range(0, len(df))\n",
    "for x in x_values:\n",
    "    route = str(df['Route'][x])\n",
    "    stops = route.count('→')\n",
    "    if (stops == 1):\n",
    "        df['Flight_Route'][x] = 'Direct'\n",
    "    else:\n",
    "        df['Flight_Route'][x] = df['Route'][x]\n",
    "\n",
    "top_routes = df['Flight_Route'].value_counts().index[:6]\n",
    "df['Flight_Route'] = np.where(df['Flight_Route'].isin(top_routes), df['Flight_Route'], 'Other')\n",
    "\n",
    "df.drop(['Route'], axis = 1, inplace = True)\n",
    "df.drop(['Additional_Info'], axis = 1, inplace = True)\n",
    "\n",
    "df['Weekend_Journey'] = df['Weekend_Journey'].astype('int64')\n",
    "\n",
    "df = df.dropna()\n",
    "\n",
    "num_vars = df.select_dtypes(include = ['int64'])\n",
    "cat_vars = df.select_dtypes(include = ['object'])\n",
    "feature_names = collections.defaultdict(str)\n",
    "for name in num_vars.columns:\n",
    "    feature_names[name]\n",
    "for name in cat_vars.columns:\n",
    "    feature_names[name]\n",
    "feature_names\n",
    "\n",
    "pair = num_vars[['Price', 'Duration_in_minutes']]\n",
    "\n",
    "for col in df.columns:\n",
    "    if col in pair.columns:\n",
    "        percentile = df[col].quantile([0.05, 0.95]).values\n",
    "        df[col] = df[col].clip(lower = percentile[0], upper = percentile[1])\n",
    "\n",
    "stops_mapper = {'non-stop': 0,\n",
    "         '1 stop': 1,\n",
    "         '2 stops': 2,\n",
    "         '3 stops': 3,\n",
    "         '4 stops': 4}\n",
    "df['Total_Stops'] = df['Total_Stops'].replace(stops_mapper)\n",
    "\n",
    "df['Flight_Route'] = df['Flight_Route'].replace(['DEL → BOM → COK', 'CCU → BOM → BLR', 'CCU → DEL → BLR', 'BLR → BOM → DEL',\n",
    "                                                'DEL → HYD → COK'], ['Route_1', 'Route_2', 'Route_3', 'Route_4', 'Route_5'])\n",
    "df = df.rename(columns = {'Flight_Route': 'Route'})\n",
    "\n",
    "df_final = pd.get_dummies(df, columns = ['Airline', 'Source', 'Destination', 'Route'], drop_first = True)"
   ]
  },
  {
   "cell_type": "markdown",
   "metadata": {},
   "source": [
    "Now we separate the independent and dependent features; we label them X and y respectively. Then, we separate data for training and testing sets in the ratio of 8:2."
   ]
  },
  {
   "cell_type": "code",
   "execution_count": 3,
   "metadata": {},
   "outputs": [],
   "source": [
    "### SEPARATING TRAIN AND TEST SETS\n",
    "X = df_final.drop(['Price'], axis = 1)\n",
    "y = df_final['Price']\n",
    "X_train, X_test, y_train, y_test = train_test_split(X, y, train_size = 0.8, random_state = 99)"
   ]
  },
  {
   "cell_type": "markdown",
   "metadata": {},
   "source": [
    "We now go on to make a simple XGBoost model, which will serve as our baseline. Few things to keep in mind here are the learning objective, which we set as reg and squarederror since we are performing regression with squarederror as the loss function. Also, fitting the model to the training data requires specifying few parameters: \n",
    "\n",
    "1. early_stopping_rounds: terminates the training process if the metric on the evaluation set doesnt improve after said rounds\n",
    "2. eval_metric: the metric to be considered for early stopping\n",
    "3. eval_set: the evaluation set to be considered for early stopping\n",
    "\n",
    "So, we build the model, fit it to the training data and use it to get predictions for the testing set. We then calculate the following metrics:\n",
    "\n",
    "1. MAE: It stands for Mean Absolute Error. It is calculated by taking the mean of the absolute difference between the dependent variable values and their respective predicted values acquired from the model.\n",
    "2. RMSE: It stands for Root Mean Squared Error. It is calculated by first taking the difference between the dependent variable values and their respective predicted values acquired from the model, then squaring each of them and taking the square root of their mean value. \n",
    "3. R-Squared: It is the proportion of variation in the dependent variable which is explained by the independent variables.\n",
    "\n",
    "For a good model, the MAE and RMSE values should be as low as possible while the R-Squared value should be closer to 1."
   ]
  },
  {
   "cell_type": "code",
   "execution_count": 4,
   "metadata": {},
   "outputs": [
    {
     "name": "stdout",
     "output_type": "stream",
     "text": [
      "MAE: 1043.127134\n",
      "RMSE: 1458.658546\n",
      "R-Squared: 0.856844\n"
     ]
    }
   ],
   "source": [
    "### CREATING A BASELINE MODEL AND CALCULATING ESSENTIAL METRICS\n",
    "model_xgb = xgb.XGBRegressor(objective = 'reg:squarederror', seed = 99)\n",
    "model_xgb.fit(X_train,\n",
    "             y_train,\n",
    "             early_stopping_rounds = 20,\n",
    "             verbose = False,\n",
    "             eval_metric = 'rmse',\n",
    "             eval_set = [(X_test, y_test)])\n",
    "y_pred_xgb = model_xgb.predict(X_test)\n",
    "print('MAE: %f' % mean_absolute_error(y_test, y_pred_xgb))\n",
    "print('RMSE: %f' % np.sqrt(mean_squared_error(y_test, y_pred_xgb)))\n",
    "print('R-Squared: %f' % r2_score(y_test, y_pred_xgb))"
   ]
  },
  {
   "cell_type": "markdown",
   "metadata": {},
   "source": [
    "We see that MAE is about 1043.13 and RMSE is about 1458.66; both of these values seem quite high. R-Squared is about 0.8568 which means that right now, about 85.68% of the variation in price of flight tickets can explained by the independent features. Going forward, we shall try to improve these metrics.\n",
    "\n",
    "In addition to these metrics, we shall also check if the errors are normally distributed. This is required for the error rates we are willing to accept when making decisions about the process. If the errors are not normal, incorrect decisions will be made more or less frequently than the stated confidence levels."
   ]
  },
  {
   "cell_type": "code",
   "execution_count": 5,
   "metadata": {},
   "outputs": [
    {
     "data": {
      "text/plain": [
       "<seaborn.axisgrid.FacetGrid at 0x26b7c2213d0>"
      ]
     },
     "execution_count": 5,
     "metadata": {},
     "output_type": "execute_result"
    },
    {
     "data": {
      "text/plain": [
       "<Figure size 1152x864 with 0 Axes>"
      ]
     },
     "metadata": {},
     "output_type": "display_data"
    },
    {
     "data": {
      "image/png": "[encoded data removed]",
      "text/plain": [
       "<Figure size 960x720 with 1 Axes>"
      ]
     },
     "metadata": {
      "needs_background": "light"
     },
     "output_type": "display_data"
    }
   ],
   "source": [
    "### PLOTTING THE ERRORS\n",
    "plt.figure(figsize = (16, 12))\n",
    "sns.displot(x = (y_test - y_pred_xgb), height = 10, aspect = 8/6, kde = True)"
   ]
  },
  {
   "cell_type": "markdown",
   "metadata": {},
   "source": [
    "The distribution appears to be normal.\n",
    "\n",
    "Next, we will try to further improve the model by tuning it's hyperparameters. For this, we shall use random search with 5 fold cross-validation across the possible values for the following hyperparameters:\n",
    "1. n_estimators: the total number of trees to be built\n",
    "2. learning_rate: it reduces the effect of individual trees thereby decreasing overfitting\n",
    "3. max_depth: the maximum number of levels in each tree\n",
    "4. min_child_weight: the minimum sum of the weights of all samples in a node required in order to make further splits\n",
    "5. gamma: the minimum loss reduction required to make further splits\n",
    "6. subsample: percent of the total samples to be considered while building each tree\n",
    "7. colsample_bytree: percent of the total features to be considered while building each tree\n",
    "8. reg_lambda: L2 regularization term on weights\n",
    "9. reg_alpha: L1 regularization term on weights\n",
    "\n",
    "We will be using R-squared value as our scoring parameter."
   ]
  },
  {
   "cell_type": "code",
   "execution_count": 6,
   "metadata": {},
   "outputs": [
    {
     "name": "stdout",
     "output_type": "stream",
     "text": [
      "Fitting 5 folds for each of 30 candidates, totalling 150 fits\n"
     ]
    },
    {
     "name": "stderr",
     "output_type": "stream",
     "text": [
      "[Parallel(n_jobs=-1)]: Using backend LokyBackend with 4 concurrent workers.\n",
      "[Parallel(n_jobs=-1)]: Done  33 tasks      | elapsed:  3.2min\n",
      "[Parallel(n_jobs=-1)]: Done 150 out of 150 | elapsed:  8.2min finished\n"
     ]
    },
    {
     "name": "stdout",
     "output_type": "stream",
     "text": [
      "{'subsample': 0.85, 'reg_lambda': 5, 'reg_alpha': 20, 'n_estimators': 700, 'min_child_weight': 3, 'max_depth': 6, 'learning_rate': 0.1, 'gamma': 0.9, 'colsample_bytree': 0.7}\n",
      "Best R-Squared: 0.862055\n"
     ]
    }
   ],
   "source": [
    "### TUNING HYPERPARAMETER VALUES USING RANDOMIZED SEARCH\n",
    "param_distributions = {\n",
    "    'n_estimators': range(100, 1000, 100),\n",
    "    'learning_rate': [0.0001, 0.0005, 0.001, 0.005, 0.01, 0.05, 0.1, 0.5, 1],\n",
    "    'max_depth': range(3, 15),\n",
    "    'min_child_weight': range(1, 10),\n",
    "    'gamma': [i/10 for i in range(0, 10)],\n",
    "    'subsample': [i/100 for i in range(65, 90, 5)],\n",
    "    'colsample_bytree': [i/100 for i in range(65, 90, 5)],\n",
    "    'reg_lambda': [1e-6, 1e-5, 1e-4, 1e-3, 0.01, 0.1, 1, 5, 10, 15, 20],\n",
    "    'reg_alpha': [1e-6, 1e-5, 1e-4, 1e-3, 0.01, 0.1, 1, 5, 10, 15, 20]\n",
    "}\n",
    "xg = xgb.XGBRegressor(objective = 'reg:squarederror', seed = 99)\n",
    "random_fit = RandomizedSearchCV(estimator = xg,\n",
    "                               param_distributions = param_distributions,\n",
    "                               scoring = 'r2',\n",
    "                               n_iter = 30,\n",
    "                               cv = 5,\n",
    "                               random_state = 99,\n",
    "                               verbose = 2,\n",
    "                               n_jobs = -1)\n",
    "random_fit.fit(X_train,\n",
    "              y_train,\n",
    "              early_stopping_rounds = 30,\n",
    "              verbose = False,\n",
    "              eval_metric = 'rmse',\n",
    "              eval_set = [(X_test, y_test)])\n",
    "print(random_fit.best_params_)\n",
    "print('Best R-Squared: %f' % random_fit.best_score_)"
   ]
  },
  {
   "cell_type": "markdown",
   "metadata": {},
   "source": [
    "Now, with these tuned hyperparameter values, we shall create our final XGBoost model."
   ]
  },
  {
   "cell_type": "code",
   "execution_count": 7,
   "metadata": {},
   "outputs": [
    {
     "name": "stdout",
     "output_type": "stream",
     "text": [
      "MAE: 1052.272024\n",
      "RMSE: 1456.760964\n",
      "R-Squared: 0.857216\n"
     ]
    }
   ],
   "source": [
    "### CREATING THE IMPROVED MODEL AND CALCULATING ESSENTIAL METRICS\n",
    "model_xgb = xgb.XGBRegressor(objective = 'reg:squarederror', \n",
    "                            seed = 99,\n",
    "                            subsample = 0.85, \n",
    "                            reg_lambda = 5,\n",
    "                            reg_alpha = 20,\n",
    "                            n_estimators = 700,\n",
    "                            min_child_weight = 3,\n",
    "                            max_depth = 6,\n",
    "                            learning_rate = 0.1,\n",
    "                            gamma = 0.9,\n",
    "                            colsample_bytree = 0.7)\n",
    "model_xgb.fit(X_train,\n",
    "             y_train,\n",
    "             early_stopping_rounds = 30,\n",
    "             verbose = False,\n",
    "             eval_metric = 'rmse',\n",
    "             eval_set = [(X_test, y_test)])\n",
    "y_pred_xgb = model_xgb.predict(X_test)\n",
    "print('MAE: %f' % mean_absolute_error(y_test, y_pred_xgb))\n",
    "print('RMSE: %f' % np.sqrt(mean_squared_error(y_test, y_pred_xgb)))\n",
    "print('R-Squared: %f' % r2_score(y_test, y_pred_xgb))"
   ]
  },
  {
   "cell_type": "markdown",
   "metadata": {},
   "source": [
    "We see that the MAE has increased from about 1043.13 to about 1052.27 while the RMSE has slightly reduced to about 1456.76 from it's initial value of about 1458.66. The R-Squared value has increased from about 0.8568 to almost 0.8572 which means that currently, almost 85.72% of the variation in price of flight tickets can explained by the independent features.\n",
    "\n",
    "We can also plot the errors to see if they are normally distributed."
   ]
  },
  {
   "cell_type": "code",
   "execution_count": 9,
   "metadata": {},
   "outputs": [
    {
     "data": {
      "text/plain": [
       "<seaborn.axisgrid.FacetGrid at 0x26b7cbd0ca0>"
      ]
     },
     "execution_count": 9,
     "metadata": {},
     "output_type": "execute_result"
    },
    {
     "data": {
      "text/plain": [
       "<Figure size 1152x864 with 0 Axes>"
      ]
     },
     "metadata": {},
     "output_type": "display_data"
    },
    {
     "data": {
      "image/png": "[encoded data removed]",
      "text/plain": [
       "<Figure size 960x720 with 1 Axes>"
      ]
     },
     "metadata": {
      "needs_background": "light"
     },
     "output_type": "display_data"
    }
   ],
   "source": [
    "### PLOTTING THE ERRORS\n",
    "plt.figure(figsize = (16, 12))\n",
    "sns.displot(x = (y_test - y_pred_xgb), height = 10, aspect = 8/6, kde = True)"
   ]
  },
  {
   "cell_type": "markdown",
   "metadata": {},
   "source": [
    "We see that there isn't much difference in the two plots except for the appearance of what looks to be a bulge in the second plot between the ranges 2000 and 4000. This might mean that the first model is more liekly to be the better one even though the R-Squared value for the second model was slightly better which might hint at overfitting. "
   ]
  }
 ],
 "metadata": {
  "kernelspec": {
   "display_name": "Python 3",
   "language": "python",
   "name": "python3"
  },
  "language_info": {
   "codemirror_mode": {
    "name": "ipython",
    "version": 3
   },
   "file_extension": ".py",
   "mimetype": "text/x-python",
   "name": "python",
   "nbconvert_exporter": "python",
   "pygments_lexer": "ipython3",
   "version": "3.8.5"
  }
 },
 "nbformat": 4,
 "nbformat_minor": 4
}
