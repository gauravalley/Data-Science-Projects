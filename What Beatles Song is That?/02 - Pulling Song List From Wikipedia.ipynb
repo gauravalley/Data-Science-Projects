{
 "cells": [
  {
   "cell_type": "markdown",
   "metadata": {},
   "source": [
    "## 1. Importing Python Libraries\n",
    "\n",
    "We shall start by importing the essential Python libraries."
   ]
  },
  {
   "cell_type": "code",
   "execution_count": 1,
   "metadata": {},
   "outputs": [],
   "source": [
    "### IMPORTING LIBRARIES\n",
    "import numpy as np\n",
    "import pandas as pd"
   ]
  },
  {
   "cell_type": "markdown",
   "metadata": {},
   "source": [
    "## 2. Pulling Data from the URL \n",
    "\n",
    "Next, let us take the url of the wikipedia page that contains the table of all the songs recorded by The Beatles and import it using pandas."
   ]
  },
  {
   "cell_type": "code",
   "execution_count": 2,
   "metadata": {},
   "outputs": [],
   "source": [
    "### IMPORTING URL DATA\n",
    "url = 'https://en.wikipedia.org/wiki/List_of_songs_recorded_by_the_Beatles'\n",
    "song_list = pd.read_html(url)"
   ]
  },
  {
   "cell_type": "markdown",
   "metadata": {},
   "source": [
    "Now, since the third table in the webpage contains the list of songs, let us make a pandas dataframe using the third table from the _song_list_ object.  "
   ]
  },
  {
   "cell_type": "code",
   "execution_count": 3,
   "metadata": {},
   "outputs": [],
   "source": [
    "song_list = pd.DataFrame(song_list[2]) "
   ]
  },
  {
   "cell_type": "markdown",
   "metadata": {},
   "source": [
    "## 3. Data Exploration\n",
    "\n",
    "Let us check the table."
   ]
  },
  {
   "cell_type": "code",
   "execution_count": 4,
   "metadata": {},
   "outputs": [
    {
     "data": {
      "text/html": [
       "<div>\n",
       "<style scoped>\n",
       "    .dataframe tbody tr th:only-of-type {\n",
       "        vertical-align: middle;\n",
       "    }\n",
       "\n",
       "    .dataframe tbody tr th {\n",
       "        vertical-align: top;\n",
       "    }\n",
       "\n",
       "    .dataframe thead th {\n",
       "        text-align: right;\n",
       "    }\n",
       "</style>\n",
       "<table border=\"1\" class=\"dataframe\">\n",
       "  <thead>\n",
       "    <tr style=\"text-align: right;\">\n",
       "      <th></th>\n",
       "      <th>Song</th>\n",
       "      <th>Core catalogue release(s)</th>\n",
       "      <th>Songwriter(s)</th>\n",
       "      <th>Lead vocal(s)[d]</th>\n",
       "      <th>Year</th>\n",
       "      <th>Ref(s)</th>\n",
       "    </tr>\n",
       "  </thead>\n",
       "  <tbody>\n",
       "    <tr>\n",
       "      <th>0</th>\n",
       "      <td>\"Across the Universe\"[e]</td>\n",
       "      <td>Let It BePast Masters</td>\n",
       "      <td>LennonMcCartney</td>\n",
       "      <td>Lennon</td>\n",
       "      <td>1969</td>\n",
       "      <td>[50][51]</td>\n",
       "    </tr>\n",
       "    <tr>\n",
       "      <th>1</th>\n",
       "      <td>\"Act Naturally\"</td>\n",
       "      <td>Help!</td>\n",
       "      <td>Johnny RussellVoni Morrison</td>\n",
       "      <td>Starr</td>\n",
       "      <td>1965</td>\n",
       "      <td>[52]</td>\n",
       "    </tr>\n",
       "    <tr>\n",
       "      <th>2</th>\n",
       "      <td>\"All I've Got to Do\"</td>\n",
       "      <td>With the Beatles</td>\n",
       "      <td>LennonMcCartney</td>\n",
       "      <td>Lennon</td>\n",
       "      <td>1963</td>\n",
       "      <td>[53]</td>\n",
       "    </tr>\n",
       "    <tr>\n",
       "      <th>3</th>\n",
       "      <td>\"All My Loving\"</td>\n",
       "      <td>With the Beatles</td>\n",
       "      <td>LennonMcCartney</td>\n",
       "      <td>McCartney</td>\n",
       "      <td>1963</td>\n",
       "      <td>[53]</td>\n",
       "    </tr>\n",
       "    <tr>\n",
       "      <th>4</th>\n",
       "      <td>\"All Together Now\"</td>\n",
       "      <td>Yellow Submarine</td>\n",
       "      <td>LennonMcCartney</td>\n",
       "      <td>McCartney(with Lennon)</td>\n",
       "      <td>1969</td>\n",
       "      <td>[54]</td>\n",
       "    </tr>\n",
       "    <tr>\n",
       "      <th>5</th>\n",
       "      <td>\"All You Need Is Love\"[f] #</td>\n",
       "      <td>Magical Mystery Tour</td>\n",
       "      <td>LennonMcCartney</td>\n",
       "      <td>Lennon</td>\n",
       "      <td>1967</td>\n",
       "      <td>[55][56]</td>\n",
       "    </tr>\n",
       "    <tr>\n",
       "      <th>6</th>\n",
       "      <td>\"And I Love Her\"</td>\n",
       "      <td>A Hard Day's Night</td>\n",
       "      <td>LennonMcCartney</td>\n",
       "      <td>McCartney</td>\n",
       "      <td>1964</td>\n",
       "      <td>[57]</td>\n",
       "    </tr>\n",
       "    <tr>\n",
       "      <th>7</th>\n",
       "      <td>\"And Your Bird Can Sing\"</td>\n",
       "      <td>Revolver</td>\n",
       "      <td>LennonMcCartney</td>\n",
       "      <td>Lennon</td>\n",
       "      <td>1966</td>\n",
       "      <td>[58]</td>\n",
       "    </tr>\n",
       "    <tr>\n",
       "      <th>8</th>\n",
       "      <td>\"Anna (Go to Him)\"</td>\n",
       "      <td>Please Please Me</td>\n",
       "      <td>Arthur Alexander</td>\n",
       "      <td>Lennon</td>\n",
       "      <td>1963</td>\n",
       "      <td>[59]</td>\n",
       "    </tr>\n",
       "    <tr>\n",
       "      <th>9</th>\n",
       "      <td>\"Another Girl\"</td>\n",
       "      <td>Help!</td>\n",
       "      <td>LennonMcCartney</td>\n",
       "      <td>McCartney</td>\n",
       "      <td>1965</td>\n",
       "      <td>[52]</td>\n",
       "    </tr>\n",
       "  </tbody>\n",
       "</table>\n",
       "</div>"
      ],
      "text/plain": [
       "                          Song Core catalogue release(s)  \\\n",
       "0     \"Across the Universe\"[e]     Let It BePast Masters   \n",
       "1              \"Act Naturally\"                     Help!   \n",
       "2         \"All I've Got to Do\"          With the Beatles   \n",
       "3              \"All My Loving\"          With the Beatles   \n",
       "4           \"All Together Now\"          Yellow Submarine   \n",
       "5  \"All You Need Is Love\"[f] #      Magical Mystery Tour   \n",
       "6             \"And I Love Her\"        A Hard Day's Night   \n",
       "7     \"And Your Bird Can Sing\"                  Revolver   \n",
       "8           \"Anna (Go to Him)\"          Please Please Me   \n",
       "9               \"Another Girl\"                     Help!   \n",
       "\n",
       "                 Songwriter(s)        Lead vocal(s)[d]  Year    Ref(s)  \n",
       "0              LennonMcCartney                  Lennon  1969  [50][51]  \n",
       "1  Johnny RussellVoni Morrison                   Starr  1965      [52]  \n",
       "2              LennonMcCartney                  Lennon  1963      [53]  \n",
       "3              LennonMcCartney               McCartney  1963      [53]  \n",
       "4              LennonMcCartney  McCartney(with Lennon)  1969      [54]  \n",
       "5              LennonMcCartney                  Lennon  1967  [55][56]  \n",
       "6              LennonMcCartney               McCartney  1964      [57]  \n",
       "7              LennonMcCartney                  Lennon  1966      [58]  \n",
       "8             Arthur Alexander                  Lennon  1963      [59]  \n",
       "9              LennonMcCartney               McCartney  1965      [52]  "
      ]
     },
     "execution_count": 4,
     "metadata": {},
     "output_type": "execute_result"
    }
   ],
   "source": [
    "song_list.head(10)"
   ]
  },
  {
   "cell_type": "markdown",
   "metadata": {},
   "source": [
    "We see that although the dataframe contains the list of songs, all the song titles are written within inverted commas. Also, some of the titles have reference links in them. Further, the dataframe also contains a column which contains only reference numbers.\n",
    "\n",
    "Next, let us check the dimensions of this dataframe."
   ]
  },
  {
   "cell_type": "code",
   "execution_count": 5,
   "metadata": {},
   "outputs": [
    {
     "data": {
      "text/plain": [
       "(213, 6)"
      ]
     },
     "execution_count": 5,
     "metadata": {},
     "output_type": "execute_result"
    }
   ],
   "source": [
    "song_list.shape"
   ]
  },
  {
   "cell_type": "markdown",
   "metadata": {},
   "source": [
    "So, the dataframe contains the title of all the 213 songs recorded by The Beatles.\n",
    "\n",
    "## 4. Cleaning the Titles Dataframe\n",
    "\n",
    "Let us start cleaning the dataframe. First, we drop the column containing reference numbers."
   ]
  },
  {
   "cell_type": "code",
   "execution_count": 6,
   "metadata": {},
   "outputs": [],
   "source": [
    "### DROPPING UNNECESSARY COLUMNS\n",
    "song_list.drop(['Ref(s)'], axis = 1, inplace = True)"
   ]
  },
  {
   "cell_type": "markdown",
   "metadata": {},
   "source": [
    "Next, let us try to extract clean song titles. For this, we split each title using the punctuation _\"_ and then take the second portion of each split."
   ]
  },
  {
   "cell_type": "code",
   "execution_count": 7,
   "metadata": {},
   "outputs": [],
   "source": [
    "### CLEANING THE SONG TITLES\n",
    "title = []\n",
    "for i in range(0, len(song_list)):\n",
    "    song_title = song_list['Song'][i]\n",
    "    song_title_clean = song_title.split('\"')[1]\n",
    "    title.append(song_title_clean)"
   ]
  },
  {
   "cell_type": "markdown",
   "metadata": {},
   "source": [
    "Now, we replace the song title with the clean titles."
   ]
  },
  {
   "cell_type": "code",
   "execution_count": 8,
   "metadata": {},
   "outputs": [
    {
     "data": {
      "text/html": [
       "<div>\n",
       "<style scoped>\n",
       "    .dataframe tbody tr th:only-of-type {\n",
       "        vertical-align: middle;\n",
       "    }\n",
       "\n",
       "    .dataframe tbody tr th {\n",
       "        vertical-align: top;\n",
       "    }\n",
       "\n",
       "    .dataframe thead th {\n",
       "        text-align: right;\n",
       "    }\n",
       "</style>\n",
       "<table border=\"1\" class=\"dataframe\">\n",
       "  <thead>\n",
       "    <tr style=\"text-align: right;\">\n",
       "      <th></th>\n",
       "      <th>Song</th>\n",
       "      <th>Core catalogue release(s)</th>\n",
       "      <th>Songwriter(s)</th>\n",
       "      <th>Lead vocal(s)[d]</th>\n",
       "      <th>Year</th>\n",
       "    </tr>\n",
       "  </thead>\n",
       "  <tbody>\n",
       "    <tr>\n",
       "      <th>0</th>\n",
       "      <td>Across the Universe</td>\n",
       "      <td>Let It BePast Masters</td>\n",
       "      <td>LennonMcCartney</td>\n",
       "      <td>Lennon</td>\n",
       "      <td>1969</td>\n",
       "    </tr>\n",
       "    <tr>\n",
       "      <th>1</th>\n",
       "      <td>Act Naturally</td>\n",
       "      <td>Help!</td>\n",
       "      <td>Johnny RussellVoni Morrison</td>\n",
       "      <td>Starr</td>\n",
       "      <td>1965</td>\n",
       "    </tr>\n",
       "    <tr>\n",
       "      <th>2</th>\n",
       "      <td>All I've Got to Do</td>\n",
       "      <td>With the Beatles</td>\n",
       "      <td>LennonMcCartney</td>\n",
       "      <td>Lennon</td>\n",
       "      <td>1963</td>\n",
       "    </tr>\n",
       "    <tr>\n",
       "      <th>3</th>\n",
       "      <td>All My Loving</td>\n",
       "      <td>With the Beatles</td>\n",
       "      <td>LennonMcCartney</td>\n",
       "      <td>McCartney</td>\n",
       "      <td>1963</td>\n",
       "    </tr>\n",
       "    <tr>\n",
       "      <th>4</th>\n",
       "      <td>All Together Now</td>\n",
       "      <td>Yellow Submarine</td>\n",
       "      <td>LennonMcCartney</td>\n",
       "      <td>McCartney(with Lennon)</td>\n",
       "      <td>1969</td>\n",
       "    </tr>\n",
       "    <tr>\n",
       "      <th>5</th>\n",
       "      <td>All You Need Is Love</td>\n",
       "      <td>Magical Mystery Tour</td>\n",
       "      <td>LennonMcCartney</td>\n",
       "      <td>Lennon</td>\n",
       "      <td>1967</td>\n",
       "    </tr>\n",
       "    <tr>\n",
       "      <th>6</th>\n",
       "      <td>And I Love Her</td>\n",
       "      <td>A Hard Day's Night</td>\n",
       "      <td>LennonMcCartney</td>\n",
       "      <td>McCartney</td>\n",
       "      <td>1964</td>\n",
       "    </tr>\n",
       "    <tr>\n",
       "      <th>7</th>\n",
       "      <td>And Your Bird Can Sing</td>\n",
       "      <td>Revolver</td>\n",
       "      <td>LennonMcCartney</td>\n",
       "      <td>Lennon</td>\n",
       "      <td>1966</td>\n",
       "    </tr>\n",
       "    <tr>\n",
       "      <th>8</th>\n",
       "      <td>Anna (Go to Him)</td>\n",
       "      <td>Please Please Me</td>\n",
       "      <td>Arthur Alexander</td>\n",
       "      <td>Lennon</td>\n",
       "      <td>1963</td>\n",
       "    </tr>\n",
       "    <tr>\n",
       "      <th>9</th>\n",
       "      <td>Another Girl</td>\n",
       "      <td>Help!</td>\n",
       "      <td>LennonMcCartney</td>\n",
       "      <td>McCartney</td>\n",
       "      <td>1965</td>\n",
       "    </tr>\n",
       "  </tbody>\n",
       "</table>\n",
       "</div>"
      ],
      "text/plain": [
       "                     Song Core catalogue release(s)  \\\n",
       "0     Across the Universe     Let It BePast Masters   \n",
       "1           Act Naturally                     Help!   \n",
       "2      All I've Got to Do          With the Beatles   \n",
       "3           All My Loving          With the Beatles   \n",
       "4        All Together Now          Yellow Submarine   \n",
       "5    All You Need Is Love      Magical Mystery Tour   \n",
       "6          And I Love Her        A Hard Day's Night   \n",
       "7  And Your Bird Can Sing                  Revolver   \n",
       "8        Anna (Go to Him)          Please Please Me   \n",
       "9            Another Girl                     Help!   \n",
       "\n",
       "                 Songwriter(s)        Lead vocal(s)[d]  Year  \n",
       "0              LennonMcCartney                  Lennon  1969  \n",
       "1  Johnny RussellVoni Morrison                   Starr  1965  \n",
       "2              LennonMcCartney                  Lennon  1963  \n",
       "3              LennonMcCartney               McCartney  1963  \n",
       "4              LennonMcCartney  McCartney(with Lennon)  1969  \n",
       "5              LennonMcCartney                  Lennon  1967  \n",
       "6              LennonMcCartney               McCartney  1964  \n",
       "7              LennonMcCartney                  Lennon  1966  \n",
       "8             Arthur Alexander                  Lennon  1963  \n",
       "9              LennonMcCartney               McCartney  1965  "
      ]
     },
     "execution_count": 8,
     "metadata": {},
     "output_type": "execute_result"
    }
   ],
   "source": [
    "### REPLACING TITLES WITH CLEANED ONES\n",
    "song_list['Song'] = title\n",
    "song_list.head(10)"
   ]
  },
  {
   "cell_type": "markdown",
   "metadata": {},
   "source": [
    "## 5. Saving the Titles Dataframe\n",
    "\n",
    "Lastly, we save this dataframe in csv format."
   ]
  },
  {
   "cell_type": "code",
   "execution_count": 9,
   "metadata": {},
   "outputs": [],
   "source": [
    "song_list.to_csv('beatles_song_list.csv', index = False)"
   ]
  }
 ],
 "metadata": {
  "kernelspec": {
   "display_name": "Python 3",
   "language": "python",
   "name": "python3"
  },
  "language_info": {
   "codemirror_mode": {
    "name": "ipython",
    "version": 3
   },
   "file_extension": ".py",
   "mimetype": "text/x-python",
   "name": "python",
   "nbconvert_exporter": "python",
   "pygments_lexer": "ipython3",
   "version": "3.8.5"
  }
 },
 "nbformat": 4,
 "nbformat_minor": 4
}
