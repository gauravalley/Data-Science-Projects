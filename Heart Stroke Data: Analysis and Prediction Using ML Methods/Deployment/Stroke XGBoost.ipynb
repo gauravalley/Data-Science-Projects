{
 "cells": [
  {
   "cell_type": "markdown",
   "metadata": {},
   "source": [
    "We shall start by importing the essential libraries."
   ]
  },
  {
   "cell_type": "code",
   "execution_count": 1,
   "metadata": {},
   "outputs": [],
   "source": [
    "### IMPORTING LIBRARIES\n",
    "import numpy as np\n",
    "import pandas as pd\n",
    "import matplotlib.pyplot as plt\n",
    "import seaborn as sns\n",
    "import collections\n",
    "import xgboost as xgb\n",
    "import pickle\n",
    "from sklearn.impute import SimpleImputer\n",
    "from sklearn.preprocessing import StandardScaler\n",
    "from sklearn.pipeline import Pipeline\n",
    "from sklearn.model_selection import train_test_split, GridSearchCV, RandomizedSearchCV\n",
    "from sklearn.metrics import plot_confusion_matrix, classification_report, accuracy_score, recall_score, roc_curve, roc_auc_score"
   ]
  },
  {
   "cell_type": "markdown",
   "metadata": {},
   "source": [
    "Next, we clean the data and bring it to a form which will make the model building process easy. This phase is proceeded as in 00 - Stroke EDA with minor name changes to levels of various categorical features to make the data receiving process easier."
   ]
  },
  {
   "cell_type": "code",
   "execution_count": 2,
   "metadata": {},
   "outputs": [],
   "source": [
    "### DATA PREPARATION\n",
    "stroke = pd.read_csv('healthcare-dataset-stroke-data.csv', na_values = [np.NaN, ' '])\n",
    "\n",
    "df = pd.DataFrame(stroke)\n",
    "df = df.drop(['id'], axis = 1)\n",
    "\n",
    "df['work_type'] = df['work_type'].replace('Self-employed', 'Self_employed')\n",
    "df['smoking_status'] = df['smoking_status'].replace(['never smoked', 'formerly smoked'], ['never_smoked', 'formerly_smoked'])\n",
    "\n",
    "num_vars = df.select_dtypes(include = ['int64', 'float64'])\n",
    "cat_vars = df.select_dtypes(include = 'object')\n",
    "feature_names = collections.defaultdict(str)\n",
    "for name in num_vars.columns:\n",
    "    feature_names[name]\n",
    "for name in cat_vars.columns:\n",
    "    feature_names[name]\n",
    "\n",
    "mean_imputer = SimpleImputer(strategy = 'mean')\n",
    "imputed_vars = mean_imputer.fit_transform(num_vars)\n",
    "df_imputed = pd.DataFrame(np.hstack([imputed_vars, cat_vars]), columns = feature_names)\n",
    "\n",
    "df_imputed['age'] = df_imputed['age'].astype('float64')\n",
    "df_imputed['hypertension'] = df_imputed['hypertension'].astype('int64')\n",
    "df_imputed['heart_disease'] = df_imputed['heart_disease'].astype('int64')\n",
    "df_imputed['avg_glucose_level'] = df_imputed['avg_glucose_level'].astype('float64')\n",
    "df_imputed['bmi'] = df_imputed['bmi'].astype('float64')\n",
    "df_imputed['stroke'] = df_imputed['stroke'].astype('int64')\n",
    "\n",
    "capping = num_vars.select_dtypes(include = 'float64')\n",
    "for col in df_imputed.columns:\n",
    "    if col in capping.columns:\n",
    "        percentile = df_imputed[col].quantile([0.05, 0.95]).values\n",
    "        df_imputed[col] = df_imputed[col].clip(lower = percentile[0], upper = percentile[1])\n",
    "        \n",
    "df_final = pd.get_dummies(df_imputed, columns = ['gender', 'ever_married', 'work_type', 'Residence_type',\n",
    "                                              'smoking_status'], drop_first = True)"
   ]
  },
  {
   "cell_type": "markdown",
   "metadata": {},
   "source": [
    "Now we separate the independent and dependent features; we label them X and y respectively. Then, we separate data for training and testing sets in the ratio of 8:2, making sure that the imbalance in the levels of the target variable, y, is maintained in both the sets. In other words, both the training and testing sets have the same proportion of people who did not suffer from stroke and those who did."
   ]
  },
  {
   "cell_type": "code",
   "execution_count": 3,
   "metadata": {},
   "outputs": [],
   "source": [
    "### SEPARATING TRAIN AND TEST SETS\n",
    "X = df_final.drop(['stroke'], axis = 1)\n",
    "y = df_final['stroke']\n",
    "X_train, X_test, y_train, y_test = train_test_split(X, y, stratify = y, test_size = 0.2, random_state = 99)"
   ]
  },
  {
   "cell_type": "markdown",
   "metadata": {},
   "source": [
    "We now go on to make a simple XGBoost model, which will serve as our baseline. Remember that the data was highly unbalanced in that the number of people who did not suffer from stroke was far more than those who did. Unlike other ML methods, in XGBoost this issue is addressed during the process of hyperparameter tuning. As for now, we shall build a baseline model on the unbalanced data.\n",
    "\n",
    "Few things to keep in mind here are the learning objective, which we set as binary and logistic since we are performing binary classification. Also, fitting the model to the training data requires specifying a few parameters: \n",
    "\n",
    "1. early_stopping_rounds: terminates the training process if the metric on the evaluation set doesnt improve after said rounds\n",
    "2. eval_metric: the metric to be considered for early stopping\n",
    "3. eval_set: the evaluation set to be considered for early stopping\n",
    "\n",
    "So, we build the model, fit it to the training data and plot the confusion matrix."
   ]
  },
  {
   "cell_type": "code",
   "execution_count": 4,
   "metadata": {},
   "outputs": [
    {
     "data": {
      "text/plain": [
       "<sklearn.metrics._plot.confusion_matrix.ConfusionMatrixDisplay at 0x29da09eb610>"
      ]
     },
     "execution_count": 4,
     "metadata": {},
     "output_type": "execute_result"
    },
    {
     "data": {
      "image/png": "[encoded data removed]",
      "text/plain": [
       "<Figure size 432x288 with 2 Axes>"
      ]
     },
     "metadata": {
      "needs_background": "light"
     },
     "output_type": "display_data"
    }
   ],
   "source": [
    "### CREATING A BASELINE MODEL\n",
    "clf_xgb = xgb.XGBClassifier(objective = 'binary:logistic', seed = 99, use_label_encoder = False)\n",
    "clf_xgb.fit(X_train,\n",
    "           y_train,\n",
    "           early_stopping_rounds = 20,\n",
    "           verbose = False,\n",
    "           eval_metric = 'aucpr',\n",
    "           eval_set = [(X_test, y_test)])\n",
    "plot_confusion_matrix(clf_xgb, X_test, y_test, display_labels = ['No stroke', 'Stroke'])"
   ]
  },
  {
   "cell_type": "markdown",
   "metadata": {},
   "source": [
    "Before we proceed, let us first take a look at the distribution of the levels of y in our dataset."
   ]
  },
  {
   "cell_type": "code",
   "execution_count": 5,
   "metadata": {},
   "outputs": [
    {
     "data": {
      "text/plain": [
       "0    0.951272\n",
       "1    0.048728\n",
       "Name: stroke, dtype: float64"
      ]
     },
     "execution_count": 5,
     "metadata": {},
     "output_type": "execute_result"
    }
   ],
   "source": [
    "df['stroke'].value_counts(normalize = True)"
   ]
  },
  {
   "cell_type": "markdown",
   "metadata": {},
   "source": [
    "Here, we see that around 95% of the people in our dataset have not suffered from stroke as opposed to just about 5% who actually have. This means that even if our model predicts every person as not having a stroke, the model will still be 95% accurate at the very least. So, in this case, accuracy is a deceptive metric.\n",
    "\n",
    "What we should rather be concerned with is the number of people who actually had stroke but were not identified by the model as having stroke i.e. the False Negatives. Lower the FN value, lower is the risk of overlooking a possible case of stroke and thus better is the model because the main objective of the model here should be to possibly save lives by correctly identifying a stroke case as early as possible. To reduce the FN value, we need to ensure that the recall of stroke cases is high since recall and FN are inversely proportional.\n",
    "\n",
    "So, we shall calculate the accuracy, recall score and oob error for the predictions made by the model."
   ]
  },
  {
   "cell_type": "code",
   "execution_count": 6,
   "metadata": {},
   "outputs": [
    {
     "name": "stdout",
     "output_type": "stream",
     "text": [
      "              precision    recall  f1-score   support\n",
      "\n",
      "   No stroke       0.95      1.00      0.98       972\n",
      "      Stroke       0.60      0.06      0.11        50\n",
      "\n",
      "    accuracy                           0.95      1022\n",
      "   macro avg       0.78      0.53      0.54      1022\n",
      "weighted avg       0.94      0.95      0.93      1022\n",
      "\n",
      "Accuracy: 0.952055\n",
      "Recall score: 0.060000\n"
     ]
    }
   ],
   "source": [
    "### CALCULATING ESSENTIAL METRICS\n",
    "y_pred_xgb = clf_xgb.predict(X_test)\n",
    "print(classification_report(y_test, y_pred_xgb, target_names = ['No stroke', 'Stroke']))\n",
    "print('Accuracy: %f' % accuracy_score(y_test, y_pred_xgb))\n",
    "print('Recall score: %f' % recall_score(y_test, y_pred_xgb))"
   ]
  },
  {
   "cell_type": "markdown",
   "metadata": {},
   "source": [
    "If we look at the confusion matrix, we see that out of the 50 cases that had actually suffered from stroke, only 3 were correctly predicted as having a stroke by our model. The baseline simply predicted almost all of the stroke cases as not having a stroke. This gives us a recall score of just 6% while the accuracy is about 95%. Even though we have achieved great accuracy, the model is very poor. However, this might be due to the severe imbalance in the dataset.\n",
    "\n",
    "Next, we plot the ROC curve and calculate the AUC score."
   ]
  },
  {
   "cell_type": "code",
   "execution_count": 7,
   "metadata": {},
   "outputs": [
    {
     "data": {
      "image/png": "[encoded data removed]",
      "text/plain": [
       "<Figure size 1152x864 with 1 Axes>"
      ]
     },
     "metadata": {
      "needs_background": "light"
     },
     "output_type": "display_data"
    }
   ],
   "source": [
    "### PLOTTING ROC CURVE WITH AUC VALUE\n",
    "y_prob_xgb = clf_xgb.predict_proba(X_test)[:, 1]\n",
    "fpr, tpr, threshold = roc_curve(y_test, y_prob_xgb)\n",
    "roc_auc = roc_auc_score(y_test, y_prob_xgb)\n",
    "plt.figure(figsize = (16, 12))\n",
    "plt.title('Receiver Operator Characteristic')\n",
    "plt.plot(fpr, tpr, label = 'AUC: %f' % roc_auc)\n",
    "plt.legend(loc = 'lower right')\n",
    "plt.plot([0, 1], ls = '--')\n",
    "plt.plot([0, 0], [1, 0], c = '0.7')\n",
    "plt.plot([1, 1], c = '0.7')\n",
    "plt.xlabel('False Positive Rate')\n",
    "plt.ylabel('True Positive Rate')\n",
    "plt.show()"
   ]
  },
  {
   "cell_type": "markdown",
   "metadata": {},
   "source": [
    "We get an AUC score of about 0.8258. The high score is probably due to the model correctly predicting all the non-stroke cases. Thus, the baseline is a very poor model though again, this might be due to the currently unaddressed imbalance in the dataset.\n",
    "\n",
    "\n",
    "Next, we will try to improve the model by tuning it's hyperparameters. For this, we shall use a random search with 10 fold cross-validation across the possible values for the following hyperparameters:\n",
    "1. learning_rate: it reduces the effect of individual trees thereby decreasing overfitting\n",
    "2. max_depth: the maximum number of levels in each tree \n",
    "3. min_child_weight: the minimum sum of the weights of all samples in a node required in order to make further splits\n",
    "4. gamma: the minimum loss reduction required to make further splits\n",
    "5. subsample: percent of the total samples to be considered while building each tree\n",
    "6. colsample_bytree: percent of the total features to be considered while building each tree\n",
    "7. scale_pos_weight: this is the hyperparameter that manages the imbalance in our dataset by controlling the balance in weights of the two classes\n",
    "8. reg_lambda: L2 regularization term on weights\n",
    "9. reg_alpha: L1 regularization term on weights\n",
    "\n",
    "As we are trying to decrease the FN value, we will use roc_auc as our scoring parameter."
   ]
  },
  {
   "cell_type": "code",
   "execution_count": 8,
   "metadata": {},
   "outputs": [
    {
     "name": "stdout",
     "output_type": "stream",
     "text": [
      "Fitting 5 folds for each of 30 candidates, totalling 150 fits\n",
      "{'subsample': 0.85, 'scale_pos_weight': 25, 'reg_lambda': 5, 'reg_alpha': 15, 'min_child_weight': 2, 'max_depth': 3, 'learning_rate': 0.0005, 'gamma': 0.9, 'colsample_bytree': 0.75}\n",
      "Best score: 0.834944\n"
     ]
    }
   ],
   "source": [
    "### TUNING HYPERPARAMETER VALUES USING RANDOMIZED SEARCH\n",
    "param_distributions_1 = {\n",
    "    'learning_rate': [0.0001, 0.0005, 0.001, 0.005, 0.01, 0.05, 0.1, 0.5, 1],\n",
    "    'max_depth': range(3, 10),\n",
    "    'min_child_weight': range(1, 6),\n",
    "    'gamma': [i/10 for i in range(0, 10)],\n",
    "    'subsample': [i/100 for i in range(60, 90, 5)],\n",
    "    'colsample_bytree': [i/100 for i in range(60, 90, 5)],\n",
    "    'scale_pos_weight': range(1, 100, 2),\n",
    "    'reg_lambda': [0.0001, 0.0005, 0.001, 0.005, 0.01, 0.05, 0.1, 0.5, 1, 5, 10, 15, 20],\n",
    "    'reg_alpha': [0.0001, 0.0005, 0.001, 0.005, 0.01, 0.05, 0.1, 0.5, 1, 5, 10, 15, 20]\n",
    "}\n",
    "xg = xgb.XGBClassifier(objective = 'binary:logistic', seed = 99, use_label_encoder = False)\n",
    "random_fit_1 = RandomizedSearchCV(estimator = xg,\n",
    "                                 param_distributions = param_distributions_1,\n",
    "                                 scoring = 'roc_auc',\n",
    "                                 n_iter = 30,\n",
    "                                 random_state = 99,\n",
    "                                 verbose = 2,\n",
    "                                 n_jobs = -1)\n",
    "random_fit_1.fit(X_train,\n",
    "                y_train,\n",
    "                early_stopping_rounds = 20,\n",
    "                verbose = False,\n",
    "                eval_metric = 'aucpr',\n",
    "                eval_set = [(X_test, y_test)])\n",
    "print(random_fit_1.best_params_)\n",
    "print('Best score: %f' % random_fit_1.best_score_)"
   ]
  },
  {
   "cell_type": "markdown",
   "metadata": {},
   "source": [
    "Now, with these tuned hyperparameter values, we shall create our final XGBoost model."
   ]
  },
  {
   "cell_type": "code",
   "execution_count": 9,
   "metadata": {},
   "outputs": [
    {
     "data": {
      "text/plain": [
       "<sklearn.metrics._plot.confusion_matrix.ConfusionMatrixDisplay at 0x29db45d2af0>"
      ]
     },
     "execution_count": 9,
     "metadata": {},
     "output_type": "execute_result"
    },
    {
     "data": {
      "image/png": "[encoded data removed]",
      "text/plain": [
       "<Figure size 432x288 with 2 Axes>"
      ]
     },
     "metadata": {
      "needs_background": "light"
     },
     "output_type": "display_data"
    }
   ],
   "source": [
    "### CREATING THE FINAL MODEL\n",
    "clf_xgb = xgb.XGBClassifier(objective = 'binary:logistic', \n",
    "                            learning_rate = 0.0005,\n",
    "                            max_depth = 3,\n",
    "                            min_child_weight = 2,\n",
    "                            gamma = 0.9,\n",
    "                            subsample = 0.85,\n",
    "                            colsample_bytree = 0.75,\n",
    "                            scale_pos_weight = 25,\n",
    "                            reg_lambda = 5,\n",
    "                            reg_alpha = 15,\n",
    "                            seed = 99, \n",
    "                            use_label_encoder = False)\n",
    "clf_xgb.fit(X_train,\n",
    "           y_train,\n",
    "           early_stopping_rounds = 20,\n",
    "           verbose = False,\n",
    "           eval_metric = 'aucpr',\n",
    "           eval_set = [(X_test, y_test)])\n",
    "plot_confusion_matrix(clf_xgb, X_test, y_test, display_labels = ['No stroke', 'Stroke'])"
   ]
  },
  {
   "cell_type": "markdown",
   "metadata": {},
   "source": [
    "Of the 50 stroke cases, the final model predicts 42 correctly while it fails to do the same for the other 8. This is much better than our baseline model."
   ]
  },
  {
   "cell_type": "code",
   "execution_count": 10,
   "metadata": {},
   "outputs": [
    {
     "name": "stdout",
     "output_type": "stream",
     "text": [
      "              precision    recall  f1-score   support\n",
      "\n",
      "   No stroke       0.99      0.64      0.78       972\n",
      "      Stroke       0.11      0.84      0.19        50\n",
      "\n",
      "    accuracy                           0.65      1022\n",
      "   macro avg       0.55      0.74      0.48      1022\n",
      "weighted avg       0.94      0.65      0.75      1022\n",
      "\n",
      "Accuracy: 0.650685\n",
      "Recall score: 0.840000\n"
     ]
    }
   ],
   "source": [
    "### CALCULATING ESSENTIAL METRICS\n",
    "y_pred_xgb = clf_xgb.predict(X_test)\n",
    "print(classification_report(y_test, y_pred_xgb, target_names = ['No stroke', 'Stroke']))\n",
    "print('Accuracy: %f' % accuracy_score(y_test, y_pred_xgb))\n",
    "print('Recall score: %f' % recall_score(y_test, y_pred_xgb))"
   ]
  },
  {
   "cell_type": "markdown",
   "metadata": {},
   "source": [
    "The recall score gone up to 84% while the accuracy has reduced to about 68%, pointing to the already established fact that accuracy is a deceptive metric in this case."
   ]
  },
  {
   "cell_type": "code",
   "execution_count": 11,
   "metadata": {},
   "outputs": [
    {
     "data": {
      "image/png": "[encoded data removed]",
      "text/plain": [
       "<Figure size 1152x864 with 1 Axes>"
      ]
     },
     "metadata": {
      "needs_background": "light"
     },
     "output_type": "display_data"
    }
   ],
   "source": [
    "### PLOTTING ROC CURVE WITH AUC VALUE\n",
    "y_prob_xgb = clf_xgb.predict_proba(X_test)[:, 1]\n",
    "fpr, tpr, threshold = roc_curve(y_test, y_prob_xgb)\n",
    "roc_auc = roc_auc_score(y_test, y_prob_xgb)\n",
    "plt.figure(figsize = (16, 12))\n",
    "plt.title('Receiver Operator Characteristic')\n",
    "plt.plot(fpr, tpr, label = 'AUC: %f' % roc_auc)\n",
    "plt.legend(loc = 'lower right')\n",
    "plt.plot([0, 1], ls = '--')\n",
    "plt.plot([0, 0], [1, 0], c = '0.7')\n",
    "plt.plot([1, 1], c = '0.7')\n",
    "plt.xlabel('False Positive Rate')\n",
    "plt.ylabel('True Positive Rate')\n",
    "plt.show()"
   ]
  },
  {
   "cell_type": "markdown",
   "metadata": {},
   "source": [
    "We get an AUC score of about 0.8283, which is more than it's predecessor. This further proves our case for the final model being than the baseline model.\n",
    "\n",
    "Next we shall dump this final model into a pickle file which will be used for deployment purposes."
   ]
  },
  {
   "cell_type": "code",
   "execution_count": 12,
   "metadata": {},
   "outputs": [],
   "source": [
    "model = open('stroke_classification_xgboost.pkl', 'wb')\n",
    "pickle.dump(clf_xgb, model)"
   ]
  },
  {
   "cell_type": "markdown",
   "metadata": {},
   "source": [
    "Lastly, we display some rows in our test set which will help us to check if the application created from the model is running correctly."
   ]
  },
  {
   "cell_type": "code",
   "execution_count": 13,
   "metadata": {},
   "outputs": [
    {
     "data": {
      "text/html": [
       "<div>\n",
       "<style scoped>\n",
       "    .dataframe tbody tr th:only-of-type {\n",
       "        vertical-align: middle;\n",
       "    }\n",
       "\n",
       "    .dataframe tbody tr th {\n",
       "        vertical-align: top;\n",
       "    }\n",
       "\n",
       "    .dataframe thead th {\n",
       "        text-align: right;\n",
       "    }\n",
       "</style>\n",
       "<table border=\"1\" class=\"dataframe\">\n",
       "  <thead>\n",
       "    <tr style=\"text-align: right;\">\n",
       "      <th></th>\n",
       "      <th>age</th>\n",
       "      <th>hypertension</th>\n",
       "      <th>heart_disease</th>\n",
       "      <th>avg_glucose_level</th>\n",
       "      <th>bmi</th>\n",
       "      <th>gender_Male</th>\n",
       "      <th>gender_Other</th>\n",
       "      <th>ever_married_Yes</th>\n",
       "      <th>work_type_Never_worked</th>\n",
       "      <th>work_type_Private</th>\n",
       "      <th>work_type_Self_employed</th>\n",
       "      <th>work_type_children</th>\n",
       "      <th>Residence_type_Urban</th>\n",
       "      <th>smoking_status_formerly_smoked</th>\n",
       "      <th>smoking_status_never_smoked</th>\n",
       "      <th>smoking_status_smokes</th>\n",
       "    </tr>\n",
       "  </thead>\n",
       "  <tbody>\n",
       "    <tr>\n",
       "      <th>3797</th>\n",
       "      <td>32.0</td>\n",
       "      <td>0</td>\n",
       "      <td>0</td>\n",
       "      <td>108.8000</td>\n",
       "      <td>24.000</td>\n",
       "      <td>0</td>\n",
       "      <td>0</td>\n",
       "      <td>1</td>\n",
       "      <td>0</td>\n",
       "      <td>1</td>\n",
       "      <td>0</td>\n",
       "      <td>0</td>\n",
       "      <td>0</td>\n",
       "      <td>0</td>\n",
       "      <td>0</td>\n",
       "      <td>0</td>\n",
       "    </tr>\n",
       "    <tr>\n",
       "      <th>3903</th>\n",
       "      <td>66.0</td>\n",
       "      <td>0</td>\n",
       "      <td>0</td>\n",
       "      <td>103.0100</td>\n",
       "      <td>33.100</td>\n",
       "      <td>1</td>\n",
       "      <td>0</td>\n",
       "      <td>1</td>\n",
       "      <td>0</td>\n",
       "      <td>1</td>\n",
       "      <td>0</td>\n",
       "      <td>0</td>\n",
       "      <td>1</td>\n",
       "      <td>0</td>\n",
       "      <td>1</td>\n",
       "      <td>0</td>\n",
       "    </tr>\n",
       "    <tr>\n",
       "      <th>1033</th>\n",
       "      <td>34.0</td>\n",
       "      <td>0</td>\n",
       "      <td>0</td>\n",
       "      <td>108.4700</td>\n",
       "      <td>30.400</td>\n",
       "      <td>1</td>\n",
       "      <td>0</td>\n",
       "      <td>0</td>\n",
       "      <td>0</td>\n",
       "      <td>1</td>\n",
       "      <td>0</td>\n",
       "      <td>0</td>\n",
       "      <td>1</td>\n",
       "      <td>0</td>\n",
       "      <td>0</td>\n",
       "      <td>1</td>\n",
       "    </tr>\n",
       "    <tr>\n",
       "      <th>1173</th>\n",
       "      <td>59.0</td>\n",
       "      <td>0</td>\n",
       "      <td>0</td>\n",
       "      <td>216.2945</td>\n",
       "      <td>42.655</td>\n",
       "      <td>0</td>\n",
       "      <td>0</td>\n",
       "      <td>1</td>\n",
       "      <td>0</td>\n",
       "      <td>1</td>\n",
       "      <td>0</td>\n",
       "      <td>0</td>\n",
       "      <td>0</td>\n",
       "      <td>0</td>\n",
       "      <td>1</td>\n",
       "      <td>0</td>\n",
       "    </tr>\n",
       "    <tr>\n",
       "      <th>3189</th>\n",
       "      <td>32.0</td>\n",
       "      <td>0</td>\n",
       "      <td>0</td>\n",
       "      <td>104.9200</td>\n",
       "      <td>22.600</td>\n",
       "      <td>0</td>\n",
       "      <td>0</td>\n",
       "      <td>1</td>\n",
       "      <td>0</td>\n",
       "      <td>1</td>\n",
       "      <td>0</td>\n",
       "      <td>0</td>\n",
       "      <td>1</td>\n",
       "      <td>0</td>\n",
       "      <td>1</td>\n",
       "      <td>0</td>\n",
       "    </tr>\n",
       "    <tr>\n",
       "      <th>...</th>\n",
       "      <td>...</td>\n",
       "      <td>...</td>\n",
       "      <td>...</td>\n",
       "      <td>...</td>\n",
       "      <td>...</td>\n",
       "      <td>...</td>\n",
       "      <td>...</td>\n",
       "      <td>...</td>\n",
       "      <td>...</td>\n",
       "      <td>...</td>\n",
       "      <td>...</td>\n",
       "      <td>...</td>\n",
       "      <td>...</td>\n",
       "      <td>...</td>\n",
       "      <td>...</td>\n",
       "      <td>...</td>\n",
       "    </tr>\n",
       "    <tr>\n",
       "      <th>4269</th>\n",
       "      <td>31.0</td>\n",
       "      <td>0</td>\n",
       "      <td>0</td>\n",
       "      <td>77.9500</td>\n",
       "      <td>25.100</td>\n",
       "      <td>1</td>\n",
       "      <td>0</td>\n",
       "      <td>0</td>\n",
       "      <td>0</td>\n",
       "      <td>1</td>\n",
       "      <td>0</td>\n",
       "      <td>0</td>\n",
       "      <td>0</td>\n",
       "      <td>0</td>\n",
       "      <td>1</td>\n",
       "      <td>0</td>\n",
       "    </tr>\n",
       "    <tr>\n",
       "      <th>2370</th>\n",
       "      <td>12.0</td>\n",
       "      <td>0</td>\n",
       "      <td>0</td>\n",
       "      <td>91.7100</td>\n",
       "      <td>21.300</td>\n",
       "      <td>0</td>\n",
       "      <td>0</td>\n",
       "      <td>0</td>\n",
       "      <td>0</td>\n",
       "      <td>0</td>\n",
       "      <td>0</td>\n",
       "      <td>1</td>\n",
       "      <td>0</td>\n",
       "      <td>0</td>\n",
       "      <td>0</td>\n",
       "      <td>0</td>\n",
       "    </tr>\n",
       "    <tr>\n",
       "      <th>1727</th>\n",
       "      <td>60.0</td>\n",
       "      <td>0</td>\n",
       "      <td>0</td>\n",
       "      <td>61.9400</td>\n",
       "      <td>27.900</td>\n",
       "      <td>0</td>\n",
       "      <td>0</td>\n",
       "      <td>1</td>\n",
       "      <td>0</td>\n",
       "      <td>0</td>\n",
       "      <td>0</td>\n",
       "      <td>0</td>\n",
       "      <td>0</td>\n",
       "      <td>1</td>\n",
       "      <td>0</td>\n",
       "      <td>0</td>\n",
       "    </tr>\n",
       "    <tr>\n",
       "      <th>2800</th>\n",
       "      <td>51.0</td>\n",
       "      <td>0</td>\n",
       "      <td>1</td>\n",
       "      <td>100.9600</td>\n",
       "      <td>33.400</td>\n",
       "      <td>0</td>\n",
       "      <td>0</td>\n",
       "      <td>1</td>\n",
       "      <td>0</td>\n",
       "      <td>0</td>\n",
       "      <td>1</td>\n",
       "      <td>0</td>\n",
       "      <td>1</td>\n",
       "      <td>0</td>\n",
       "      <td>1</td>\n",
       "      <td>0</td>\n",
       "    </tr>\n",
       "    <tr>\n",
       "      <th>3964</th>\n",
       "      <td>13.0</td>\n",
       "      <td>0</td>\n",
       "      <td>0</td>\n",
       "      <td>172.2700</td>\n",
       "      <td>17.700</td>\n",
       "      <td>0</td>\n",
       "      <td>0</td>\n",
       "      <td>0</td>\n",
       "      <td>0</td>\n",
       "      <td>1</td>\n",
       "      <td>0</td>\n",
       "      <td>0</td>\n",
       "      <td>0</td>\n",
       "      <td>0</td>\n",
       "      <td>1</td>\n",
       "      <td>0</td>\n",
       "    </tr>\n",
       "  </tbody>\n",
       "</table>\n",
       "<p>1022 rows × 16 columns</p>\n",
       "</div>"
      ],
      "text/plain": [
       "       age  hypertension  heart_disease  avg_glucose_level     bmi  \\\n",
       "3797  32.0             0              0           108.8000  24.000   \n",
       "3903  66.0             0              0           103.0100  33.100   \n",
       "1033  34.0             0              0           108.4700  30.400   \n",
       "1173  59.0             0              0           216.2945  42.655   \n",
       "3189  32.0             0              0           104.9200  22.600   \n",
       "...    ...           ...            ...                ...     ...   \n",
       "4269  31.0             0              0            77.9500  25.100   \n",
       "2370  12.0             0              0            91.7100  21.300   \n",
       "1727  60.0             0              0            61.9400  27.900   \n",
       "2800  51.0             0              1           100.9600  33.400   \n",
       "3964  13.0             0              0           172.2700  17.700   \n",
       "\n",
       "      gender_Male  gender_Other  ever_married_Yes  work_type_Never_worked  \\\n",
       "3797            0             0                 1                       0   \n",
       "3903            1             0                 1                       0   \n",
       "1033            1             0                 0                       0   \n",
       "1173            0             0                 1                       0   \n",
       "3189            0             0                 1                       0   \n",
       "...           ...           ...               ...                     ...   \n",
       "4269            1             0                 0                       0   \n",
       "2370            0             0                 0                       0   \n",
       "1727            0             0                 1                       0   \n",
       "2800            0             0                 1                       0   \n",
       "3964            0             0                 0                       0   \n",
       "\n",
       "      work_type_Private  work_type_Self_employed  work_type_children  \\\n",
       "3797                  1                        0                   0   \n",
       "3903                  1                        0                   0   \n",
       "1033                  1                        0                   0   \n",
       "1173                  1                        0                   0   \n",
       "3189                  1                        0                   0   \n",
       "...                 ...                      ...                 ...   \n",
       "4269                  1                        0                   0   \n",
       "2370                  0                        0                   1   \n",
       "1727                  0                        0                   0   \n",
       "2800                  0                        1                   0   \n",
       "3964                  1                        0                   0   \n",
       "\n",
       "      Residence_type_Urban  smoking_status_formerly_smoked  \\\n",
       "3797                     0                               0   \n",
       "3903                     1                               0   \n",
       "1033                     1                               0   \n",
       "1173                     0                               0   \n",
       "3189                     1                               0   \n",
       "...                    ...                             ...   \n",
       "4269                     0                               0   \n",
       "2370                     0                               0   \n",
       "1727                     0                               1   \n",
       "2800                     1                               0   \n",
       "3964                     0                               0   \n",
       "\n",
       "      smoking_status_never_smoked  smoking_status_smokes  \n",
       "3797                            0                      0  \n",
       "3903                            1                      0  \n",
       "1033                            0                      1  \n",
       "1173                            1                      0  \n",
       "3189                            1                      0  \n",
       "...                           ...                    ...  \n",
       "4269                            1                      0  \n",
       "2370                            0                      0  \n",
       "1727                            0                      0  \n",
       "2800                            1                      0  \n",
       "3964                            1                      0  \n",
       "\n",
       "[1022 rows x 16 columns]"
      ]
     },
     "execution_count": 13,
     "metadata": {},
     "output_type": "execute_result"
    }
   ],
   "source": [
    "X_test"
   ]
  },
  {
   "cell_type": "code",
   "execution_count": 14,
   "metadata": {},
   "outputs": [
    {
     "data": {
      "text/html": [
       "<div>\n",
       "<style scoped>\n",
       "    .dataframe tbody tr th:only-of-type {\n",
       "        vertical-align: middle;\n",
       "    }\n",
       "\n",
       "    .dataframe tbody tr th {\n",
       "        vertical-align: top;\n",
       "    }\n",
       "\n",
       "    .dataframe thead th {\n",
       "        text-align: right;\n",
       "    }\n",
       "</style>\n",
       "<table border=\"1\" class=\"dataframe\">\n",
       "  <thead>\n",
       "    <tr style=\"text-align: right;\">\n",
       "      <th></th>\n",
       "      <th>age</th>\n",
       "      <th>hypertension</th>\n",
       "      <th>heart_disease</th>\n",
       "      <th>avg_glucose_level</th>\n",
       "      <th>bmi</th>\n",
       "      <th>gender_Male</th>\n",
       "      <th>gender_Other</th>\n",
       "      <th>ever_married_Yes</th>\n",
       "      <th>work_type_Never_worked</th>\n",
       "      <th>work_type_Private</th>\n",
       "      <th>work_type_Self_employed</th>\n",
       "      <th>work_type_children</th>\n",
       "      <th>Residence_type_Urban</th>\n",
       "      <th>smoking_status_formerly_smoked</th>\n",
       "      <th>smoking_status_never_smoked</th>\n",
       "      <th>smoking_status_smokes</th>\n",
       "    </tr>\n",
       "  </thead>\n",
       "  <tbody>\n",
       "    <tr>\n",
       "      <th>546</th>\n",
       "      <td>9.0</td>\n",
       "      <td>0</td>\n",
       "      <td>0</td>\n",
       "      <td>122.22</td>\n",
       "      <td>17.7</td>\n",
       "      <td>1</td>\n",
       "      <td>0</td>\n",
       "      <td>0</td>\n",
       "      <td>0</td>\n",
       "      <td>0</td>\n",
       "      <td>0</td>\n",
       "      <td>1</td>\n",
       "      <td>1</td>\n",
       "      <td>0</td>\n",
       "      <td>0</td>\n",
       "      <td>0</td>\n",
       "    </tr>\n",
       "  </tbody>\n",
       "</table>\n",
       "</div>"
      ],
      "text/plain": [
       "     age  hypertension  heart_disease  avg_glucose_level   bmi  gender_Male  \\\n",
       "546  9.0             0              0             122.22  17.7            1   \n",
       "\n",
       "     gender_Other  ever_married_Yes  work_type_Never_worked  \\\n",
       "546             0                 0                       0   \n",
       "\n",
       "     work_type_Private  work_type_Self_employed  work_type_children  \\\n",
       "546                  0                        0                   1   \n",
       "\n",
       "     Residence_type_Urban  smoking_status_formerly_smoked  \\\n",
       "546                     1                               0   \n",
       "\n",
       "     smoking_status_never_smoked  smoking_status_smokes  \n",
       "546                            0                      0  "
      ]
     },
     "execution_count": 14,
     "metadata": {},
     "output_type": "execute_result"
    }
   ],
   "source": [
    "test_1 = X_test.iloc[100:101, :]\n",
    "test_1"
   ]
  },
  {
   "cell_type": "code",
   "execution_count": 15,
   "metadata": {},
   "outputs": [
    {
     "data": {
      "text/plain": [
       "0"
      ]
     },
     "execution_count": 15,
     "metadata": {},
     "output_type": "execute_result"
    }
   ],
   "source": [
    "y_test_1 = y_pred_xgb[100:101][0]\n",
    "y_test_1"
   ]
  },
  {
   "cell_type": "code",
   "execution_count": 16,
   "metadata": {},
   "outputs": [
    {
     "data": {
      "text/html": [
       "<div>\n",
       "<style scoped>\n",
       "    .dataframe tbody tr th:only-of-type {\n",
       "        vertical-align: middle;\n",
       "    }\n",
       "\n",
       "    .dataframe tbody tr th {\n",
       "        vertical-align: top;\n",
       "    }\n",
       "\n",
       "    .dataframe thead th {\n",
       "        text-align: right;\n",
       "    }\n",
       "</style>\n",
       "<table border=\"1\" class=\"dataframe\">\n",
       "  <thead>\n",
       "    <tr style=\"text-align: right;\">\n",
       "      <th></th>\n",
       "      <th>age</th>\n",
       "      <th>hypertension</th>\n",
       "      <th>heart_disease</th>\n",
       "      <th>avg_glucose_level</th>\n",
       "      <th>bmi</th>\n",
       "      <th>gender_Male</th>\n",
       "      <th>gender_Other</th>\n",
       "      <th>ever_married_Yes</th>\n",
       "      <th>work_type_Never_worked</th>\n",
       "      <th>work_type_Private</th>\n",
       "      <th>work_type_Self_employed</th>\n",
       "      <th>work_type_children</th>\n",
       "      <th>Residence_type_Urban</th>\n",
       "      <th>smoking_status_formerly_smoked</th>\n",
       "      <th>smoking_status_never_smoked</th>\n",
       "      <th>smoking_status_smokes</th>\n",
       "    </tr>\n",
       "  </thead>\n",
       "  <tbody>\n",
       "    <tr>\n",
       "      <th>150</th>\n",
       "      <td>79.0</td>\n",
       "      <td>0</td>\n",
       "      <td>0</td>\n",
       "      <td>169.67</td>\n",
       "      <td>28.893237</td>\n",
       "      <td>0</td>\n",
       "      <td>0</td>\n",
       "      <td>1</td>\n",
       "      <td>0</td>\n",
       "      <td>1</td>\n",
       "      <td>0</td>\n",
       "      <td>0</td>\n",
       "      <td>0</td>\n",
       "      <td>0</td>\n",
       "      <td>0</td>\n",
       "      <td>0</td>\n",
       "    </tr>\n",
       "  </tbody>\n",
       "</table>\n",
       "</div>"
      ],
      "text/plain": [
       "      age  hypertension  heart_disease  avg_glucose_level        bmi  \\\n",
       "150  79.0             0              0             169.67  28.893237   \n",
       "\n",
       "     gender_Male  gender_Other  ever_married_Yes  work_type_Never_worked  \\\n",
       "150            0             0                 1                       0   \n",
       "\n",
       "     work_type_Private  work_type_Self_employed  work_type_children  \\\n",
       "150                  1                        0                   0   \n",
       "\n",
       "     Residence_type_Urban  smoking_status_formerly_smoked  \\\n",
       "150                     0                               0   \n",
       "\n",
       "     smoking_status_never_smoked  smoking_status_smokes  \n",
       "150                            0                      0  "
      ]
     },
     "execution_count": 16,
     "metadata": {},
     "output_type": "execute_result"
    }
   ],
   "source": [
    "test_1 = X_test.iloc[650:651, :]\n",
    "test_1"
   ]
  },
  {
   "cell_type": "code",
   "execution_count": 17,
   "metadata": {},
   "outputs": [
    {
     "data": {
      "text/plain": [
       "1"
      ]
     },
     "execution_count": 17,
     "metadata": {},
     "output_type": "execute_result"
    }
   ],
   "source": [
    "y_test_1 = y_pred_xgb[650:651][0]\n",
    "y_test_1"
   ]
  }
 ],
 "metadata": {
  "kernelspec": {
   "display_name": "Python 3",
   "language": "python",
   "name": "python3"
  },
  "language_info": {
   "codemirror_mode": {
    "name": "ipython",
    "version": 3
   },
   "file_extension": ".py",
   "mimetype": "text/x-python",
   "name": "python",
   "nbconvert_exporter": "python",
   "pygments_lexer": "ipython3",
   "version": "3.9.1"
  }
 },
 "nbformat": 4,
 "nbformat_minor": 4
}
